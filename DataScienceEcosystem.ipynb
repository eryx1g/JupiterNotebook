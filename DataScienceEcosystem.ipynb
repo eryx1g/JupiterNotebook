{
 "cells": [
  {
   "cell_type": "markdown",
   "id": "061f307c-da29-4ca2-871f-1bd9538253b1",
   "metadata": {},
   "source": [
    "# Data Science Tools and Ecosystem"
   ]
  },
  {
   "cell_type": "markdown",
   "id": "00177852-c066-45d7-a1b2-c6e98e66581a",
   "metadata": {},
   "source": [
    "##In this notebook, Data Science Tools and Ecosystem are summarized.\n"
   ]
  },
  {
   "cell_type": "markdown",
   "id": "efdaa9f2-b633-4aa6-844a-9b149b2926d0",
   "metadata": {},
   "source": [
    "**Objectives:**\n",
    "* List popular languages for Data Science\n",
    "* List popular libraries for Data Science\n",
    "* List popular tools for Data Science\n",
    "* Examples of evaluating arithmetic expressions in Python\n"
   ]
  },
  {
   "cell_type": "markdown",
   "id": "532cf73b-092c-4bdb-9bce-e45b3bc34284",
   "metadata": {},
   "source": [
    "Some of the popular languages that Data Scientists use are:\n",
    "- Python\n",
    "- R\n",
    "- SQL\n",
    "- Julia"
   ]
  },
  {
   "cell_type": "markdown",
   "id": "beb31b8c-3997-4995-b79f-bcf1e9e72e06",
   "metadata": {},
   "source": [
    "Some of the commonly used libraries used by Data Scientists include:\n",
    "1. numpy\n",
    "2. Pandas\n",
    "3. plotly\n",
    "4. scikit-learn\n",
    "5. tensorflow\n",
    "6. matplotlib\n"
   ]
  },
  {
   "cell_type": "markdown",
   "id": "c549699f-c6e3-4bf5-aa1a-e6ba028fd9ff",
   "metadata": {},
   "source": [
    "|Data Science Tools|\n",
    "|-------------------\n",
    "|Yupyter Notebook|\n",
    "|RStudio|\n",
    "|VS Code|\n",
    "    "
   ]
  },
  {
   "cell_type": "markdown",
   "id": "3effeb26-714b-413a-9ad4-2446ad1b36a8",
   "metadata": {},
   "source": [
    "### Below are a few examples of evaluating arithmetic expressions in Python"
   ]
  },
  {
   "cell_type": "code",
   "execution_count": 30,
   "id": "0bd23317-7cee-41a1-9f70-87c6f4a417d8",
   "metadata": {},
   "outputs": [
    {
     "data": {
      "text/plain": [
       "17"
      ]
     },
     "execution_count": 30,
     "metadata": {},
     "output_type": "execute_result"
    }
   ],
   "source": [
    "# This a simple arithmetic expression to mutiply then add integers\n",
    "(3*4)+5\n"
   ]
  },
  {
   "cell_type": "code",
   "execution_count": 32,
   "id": "7f1e262c-1ea7-4799-9580-1231c4bcf58d",
   "metadata": {},
   "outputs": [
    {
     "data": {
      "text/plain": [
       "3.3333333333333335"
      ]
     },
     "execution_count": 32,
     "metadata": {},
     "output_type": "execute_result"
    }
   ],
   "source": [
    "# This will convert 200 minutes to hours by diving by 60\n",
    "200/60"
   ]
  },
  {
   "cell_type": "markdown",
   "id": "6eb21f76-7673-4b73-b657-8d1b9019f085",
   "metadata": {},
   "source": [
    "## Author\n",
    "Eryk Brzozowski"
   ]
  }
 ],
 "metadata": {
  "kernelspec": {
   "display_name": "Python 3 (ipykernel)",
   "language": "python",
   "name": "python3"
  },
  "language_info": {
   "codemirror_mode": {
    "name": "ipython",
    "version": 3
   },
   "file_extension": ".py",
   "mimetype": "text/x-python",
   "name": "python",
   "nbconvert_exporter": "python",
   "pygments_lexer": "ipython3",
   "version": "3.12.7"
  }
 },
 "nbformat": 4,
 "nbformat_minor": 5
}
